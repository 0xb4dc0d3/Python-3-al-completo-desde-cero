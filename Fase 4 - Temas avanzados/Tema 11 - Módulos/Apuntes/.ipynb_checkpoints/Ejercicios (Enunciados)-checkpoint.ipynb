{
 "cells": [
  {
   "cell_type": "markdown",
   "metadata": {},
   "source": [
    "# Tema 11: Módulos\n",
    "*Nota: Estos ejercicios son optativos para hacer al final de la unidad y están pensados para apoyar tu aprendizaje*."
   ]
  },
  {
   "cell_type": "markdown",
   "metadata": {},
   "source": [
    "**1) Crea el siguiente módulo:**\n",
    "* El módulo se denominará **operaciones** y contendrá 4 funciones para realizar una **suma**, una **resta**, un **producto** y una **division** entres dos números. Todas ellas devolverán el resultado.\n",
    "* En las funciones del módulo deberá de haber tratamiento e invocación manual de errores para evitar que se quede bloqueada una funcionalidad, éso incluye:\n",
    "   * *TypeError*: En caso de que se envíen valores a las funciones que no sean números. Además deberá aparecer un mensaje que informe \"Error: Tipo de dato no válido\".\n",
    "   * *ZeroDivisionError*: En caso de realizar una división por cero. Además deberá aparecer un mensaje que informe \"Error: No es posible dividir entre cero\"."
   ]
  },
  {
   "cell_type": "markdown",
   "metadata": {},
   "source": [
    "**Una vez creado el módulo, crea un script calculos.py en el mismo directorio en el que deberás importar el módulo y realizar las siguientes instrucciones y observar si el comportamiento es correcto:**\n",
    "\n",
    "```python\n",
    "a, b, c = (10, 5, 0)\n",
    "\n",
    "print( \"{} + {} = {}\".format(a, b, suma(a, b) )\n",
    "print( \"{} - {} = {}\".format(b, c, resta(b, c) )\n",
    "print( \"{} * {} = {}\".format(b, b, producto(b, b) )\n",
    "print( \"{} / {} = {}\".format(a, c, division(a, c) )\n",
    "```"
   ]
  },
  {
   "cell_type": "markdown",
   "metadata": {},
   "source": [
    "**2) ¿Eres capaz de desarrollar un reloj de horas, minutos y segundos utilizando el módulo datetime con la hora actual? Hazlo en un script llamado reloj.py y ejecútalo en la terminal.**\n",
    "\n",
    "*Ayudas: El módulo **time** integra una función llamada **sleep(segundos)** que puede pausar la ejecución de un programa durante un tiempo. Así mismo el módulo **os** integra la función **system('cls')** y **system('clear')** para limpiar la pantalla de la terminal en sistemas Windows y Linux/Unix respecticamente.*"
   ]
  },
  {
   "cell_type": "markdown",
   "metadata": {},
   "source": [
    "**3) Crea una función llamada generador() que haga lo siguiente:**\n",
    "\n",
    "* La función tomará un número entero por teclado que debe ser mayor que 0 y menor o igual que 20, mostrando el mensaje **¿Cuantos números quieres generar? [1-20]**. Debes comprobarlo y repetir la lectura por teclado hasta que se cumpla esta condición.\n",
    "* Una vez tengas el número pedirás al usuario lo siguiente **¿Cómo quieres redondear los números? 1) Al alza - 2) Normal - 3) A la baja**. Deberás guardar la respuesta, y en caso de no ser correcta repetir la pregunta hasta que lo sea.\n",
    "* Cuando sepas cuántos números generar y cómo redondearlos, entonces generarás una lista de números aleatorios decimales entre 0 y 100 con tantos números como el usuario haya indicado. Deberás redondear cada número en función de lo que el usuario ha especificado.\n",
    "* Finalmente devolverás la lista de números redondeados.\n",
    "\n",
    "** El objetivo de este ejercicio es practicar los módulos random y math.**"
   ]
  },
  {
   "cell_type": "code",
   "execution_count": 1,
   "metadata": {
    "collapsed": true
   },
   "outputs": [],
   "source": [
    "# Completa el código aquí\n"
   ]
  }
 ],
 "metadata": {
  "anaconda-cloud": {},
  "kernelspec": {
   "display_name": "Python [Root]",
   "language": "python",
   "name": "Python [Root]"
  },
  "language_info": {
   "codemirror_mode": {
    "name": "ipython",
    "version": 3
   },
   "file_extension": ".py",
   "mimetype": "text/x-python",
   "name": "python",
   "nbconvert_exporter": "python",
   "pygments_lexer": "ipython3",
   "version": "3.5.2"
  }
 },
 "nbformat": 4,
 "nbformat_minor": 0
}
