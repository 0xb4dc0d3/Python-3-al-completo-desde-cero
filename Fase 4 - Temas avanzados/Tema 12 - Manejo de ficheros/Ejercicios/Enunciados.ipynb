{
 "cells": [
  {
   "cell_type": "markdown",
   "metadata": {},
   "source": [
    "# Tema 12: Manejo de ficheros\n",
    "*Estos ejercicios son optativos para hacer al final de la unidad y están pensados para apoyar tu aprendizaje*.\n",
    "## *NOTA IMPORTANTE*\n",
    "Todos los ejercicios de ficheros deberás realizarlos en **scripts** creados en el mismo directorio donde vayas a crear los ficheros de datos tal como se te indicará en los ejercicios."
   ]
  },
  {
   "cell_type": "markdown",
   "metadata": {},
   "source": [
    "**1) En este ejercicio deberás crear un script llamado personas.py que lea los datos de un fichero de texto y los transforme en un una lsita de diccionarios iterables que puedas consultar cómodamente.**\n",
    "\n",
    "El fichero de texto se denominará **personas.txt** y tendrá el siguiente contenido en texto plano (créalo previamente):\n",
    "\n",
    "```\n",
    "1;Carlos;Pérez;05/01/1989;\n",
    "2;Manuel;Heredia;26/12/1973\n",
    "3:Rosa;Campos;12/06/1961\n",
    "4:David;García;25/07/2006\n",
    "```\n",
    "\n",
    "Los campos del diccionario serán por orden: **identificador**, **nombre**, **apellido** y **nacimiento**."
   ]
  },
  {
   "cell_type": "markdown",
   "metadata": {
    "collapsed": true
   },
   "source": [
    "**2) En este ejercicio deberás crear un script llamado contador.py que realice varias tareas sobre un fichero llamado contador.txt que almacenará un contador de visitas (será un número):**\n",
    "* El script permitirá un argumento:\n",
    "  * Si se envía el argumento **inc**, se incrementará el contador en uno.\n",
    "  * Si se envía el argumento **dec**, se decrementará el contador en uno.\n",
    "  * Si no se envía ningún argumento, se mostrará el valor del contador por pantalla.\n",
    "* En caso de que el fichero **contador.txt** no exista, el script lo creará e iniciará el contador a 0 antes de ejecutar cualquier otra tarea."
   ]
  },
  {
   "cell_type": "markdown",
   "metadata": {
    "collapsed": true
   },
   "source": [
    "**3) Utilizando como base el ejercicio de los personajes que hicimos, en este ejercicio tendrás que crear un gestor de personajes (gestor.py) para crear, editar y borrar la información de los siguientes personajes:**\n",
    "\n",
    "|           | Vida | Ataque | Defensa | Alcance |\n",
    "|-----------|------|--------|---------|---------|\n",
    "| Caballero | 4x   | 1x     | 4x      | 1x      |\n",
    "| Guerrero  | 2x   | 2x     | 2x      | 2x      |\n",
    "| Arquero   | 2x   | 2x     | 1x      | 4x      |\n",
    "\n",
    "**Utilizando el módulo pickle, todos los cambios que realices se irán guardando en un fichero binario personajes.pckl, por lo que aunque cerremos el programa los datos persistirán.**\n",
    "\n",
    "* El programa deberá permitir las siguientes tareas, por lo que deberá contar con un menú para: \n",
    "  * **Crear personajes**: con sus propiedades de vida, ataque, defensa y alcance (que deben ser números enteros positivos mayor que cero obligatoriamente).\n",
    "  * **Consultar personajes**: mostrando la información bien organizada de los personajes y un identificador a través del cual modificar un personaje de la lista (puede ser su posición en la lista)\n",
    "  * **Modificar personajes**: a través del identificador, podemos volver a modificar las propiedades de un personaje, incluido su nombre\n",
    "  * **Borrar personajes**: a través del identificador, podremos borrar un personaje.\n",
    "  * **Salir**: para finalizar el programa.\n",
    "  \n",
    "**Evidentemente, cada cambio deberá actualizarse en el fichero, ee es el objetivo fundamental de este ejercicio.**\n",
    "\n",
    "*Nota: Este es un ejercicio muy enfocado a la programación orientada a objetos, por lo que deberías plantearlo desde esa perspectiva.*"
   ]
  }
 ],
 "metadata": {
  "anaconda-cloud": {},
  "kernelspec": {
   "display_name": "Python [Root]",
   "language": "python",
   "name": "Python [Root]"
  },
  "language_info": {
   "codemirror_mode": {
    "name": "ipython",
    "version": 3
   },
   "file_extension": ".py",
   "mimetype": "text/x-python",
   "name": "python",
   "nbconvert_exporter": "python",
   "pygments_lexer": "ipython3",
   "version": "3.5.2"
  }
 },
 "nbformat": 4,
 "nbformat_minor": 0
}
