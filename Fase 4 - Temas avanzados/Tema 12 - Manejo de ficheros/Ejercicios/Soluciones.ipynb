{
 "cells": [
  {
   "cell_type": "markdown",
   "metadata": {},
   "source": [
    "# Tema 12: Manejo de ficheros (Soluciones)\n",
    "*Estos ejercicios son optativos para hacer al final de la unidad y están pensados para apoyar tu aprendizaje*.\n",
    "## *NOTA IMPORTANTE*\n",
    "Todos los ejercicios de ficheros deberás realizarlos en **scripts** creados en el mismo directorio donde vayas a crear los ficheros de datos tal como se te indicará en los ejercicios."
   ]
  },
  {
   "cell_type": "markdown",
   "metadata": {},
   "source": [
    "**1) En este ejercicio deberás crear un script llamado personas.py que lea los datos de un fichero de texto, que transforme cada fila en un diccionario y lo añada a una lista llamada personas. Luego rocorre las personas de la lista y paracada una muestra de forma amigable todos sus campos.**\n",
    "\n",
    "El fichero de texto se denominará **personas.txt** y tendrá el siguiente contenido en texto plano (créalo previamente):\n",
    "\n",
    "```\n",
    "1;Carlos;Pérez;05/01/1989\n",
    "2;Manuel;Heredia;26/12/1973\n",
    "3;Rosa;Campos;12/06/1961\n",
    "4;David;García;25/07/2006\n",
    "```\n",
    "\n",
    "Los campos del diccionario serán por orden: **id**, **nombre**, **apellido** y **nacimiento**.\n",
    "\n",
    "**Aviso importante**: *Si quieres leer un fichero que no se ha escrito directamente con Python, entonces es posible que encuentres errores de codificación al mostrar algunos caracteres. Asegúrate de indicar la codificación del fichero manualmente durante la apertura como argumento en el **open**, por ejemplo con UTF-8:*\n",
    "\n",
    "```python\n",
    "open(..., encoding=\"utf8\")\n",
    "```"
   ]
  },
  {
   "cell_type": "markdown",
   "metadata": {},
   "source": [
    "### personas.py"
   ]
  },
  {
   "cell_type": "code",
   "execution_count": 54,
   "metadata": {
    "collapsed": false
   },
   "outputs": [
    {
     "name": "stdout",
     "output_type": "stream",
     "text": [
      "(id=1) Cárlos Peralta => 05/01/1989 \n",
      "(id=2) Manuel Heredia => 26/12/1973 \n",
      "(id=3) Rosa Campos => 12/06/1961 \n",
      "(id=4) David García => 25/07/2006 \n"
     ]
    }
   ],
   "source": [
    "from io import open\n",
    "\n",
    "fichero = open('personas.txt','r', encoding=\"utf8\")\n",
    "lineas = fichero.readlines()\n",
    "fichero.close()\n",
    "\n",
    "personas = []\n",
    "for linea in lineas:\n",
    "    campos = linea.replace(\"\\n\", \"\").split(\";\")  # borramos los saltos de línea y separamos\n",
    "    persona = {\"id\":campos[0], \"nombre\":campos[1], \"apellido\":campos[2], \"nacimiento\":campos[3]}\n",
    "    personas.append(persona)\n",
    "    \n",
    "for p in personas:\n",
    "    print(\"(id={}) {} {} => {} \".format( p['id'], p['nombre'], p['apellido'], p['nacimiento']) )"
   ]
  },
  {
   "cell_type": "markdown",
   "metadata": {
    "collapsed": true
   },
   "source": [
    "**2) En este ejercicio deberás crear un script llamado contador.py que realice varias tareas sobre un fichero llamado contador.txt que almacenará un contador de visitas (será un número):**\n",
    "* Nuestro script trabajará sobre un fichero  **contador.txt**. Comprobaremos si el fichero no existe o está vacío, en ese caso lo crearemos con el número 0. Si existe simplemente leeremos el valor del contador.\n",
    "* Luego a partir de un argumento:\n",
    "  * Si se envía el argumento **inc**, se incrementará el contador en uno y se mostrará por pantalla.\n",
    "  * Si se envía el argumento **dec**, se decrementará el contador en uno y se mostrará por pantalla.\n",
    "  * Si no se envía ningún argumento (o algo que no sea inc o dec), se mostrará el valor del contador por pantalla.\n",
    "* Finalmente guardará de nuevo el valor del contador de nuevo en el fichero.\n",
    "* Utiliza excepciones si crees que es necesario, puedes mostrar el mensaje: **Error: Fichero corrupto.**"
   ]
  },
  {
   "cell_type": "markdown",
   "metadata": {},
   "source": [
    "### contador.py"
   ]
  },
  {
   "cell_type": "code",
   "execution_count": 3,
   "metadata": {
    "collapsed": false
   },
   "outputs": [
    {
     "name": "stdout",
     "output_type": "stream",
     "text": [
      "-1\n"
     ]
    }
   ],
   "source": [
    "from io import open\n",
    "import sys\n",
    "\n",
    "fichero = open('contador.txt','a+')  # Primero nos aseguramos de abrir el fichero o crearlo\n",
    "fichero.seek(0)  # Ponemos el puntero al principio\n",
    "contenido = fichero.readline()  # Leemos la primera línea\n",
    "if len(contenido) == 0: \n",
    "    contenido = \"0\"\n",
    "    fichero.write(contenido) # Si está vacío escribimos el 0 en forma de texto\n",
    "fichero.close()  # Cerramos el fichero\n",
    "\n",
    "# Ahora intentamos transformar el texto a un número\n",
    "try:\n",
    "    contador = int(contenido)\n",
    "    \n",
    "    # Y en función de lo que el usuario quiere...\n",
    "    if len(sys.argv) == 2:\n",
    "        if sys.argv[1] == \"inc\":\n",
    "            contador += 1\n",
    "        elif sys.argv[1] == \"dec\":\n",
    "            contador -= 1\n",
    "            \n",
    "    print(contador)\n",
    "    \n",
    "    # Finalmente reabrimos el fichero en modo escritura para reescribir el contador borrando todo\n",
    "    fichero = open('contador.txt','w')\n",
    "    fichero.write( str(contador) )\n",
    "    fichero.close()\n",
    "    \n",
    "except:\n",
    "    print(\"Error: Fichero corrupto.\")"
   ]
  },
  {
   "cell_type": "markdown",
   "metadata": {
    "collapsed": true
   },
   "source": [
    "**3) Utilizando como base el ejercicio de los personajes que hicimos, en este ejercicio tendrás que crear un gestor de personajes (gestor.py) para añadir y borrar la información de los siguientes personajes:**\n",
    "\n",
    "|           | Vida | Ataque | Defensa | Alcance |\n",
    "|-----------|------|--------|---------|---------|\n",
    "| Caballero | 4    | 2      | 4       | 2       |\n",
    "| Guerrero  | 2    | 4      | 2       | 4       |\n",
    "| Arquero   | 2    | 4      | 1       | 8       |\n",
    "\n",
    "**Deberás hacer uso del módulo pickle y todos los cambios que realices se irán guardando en un fichero binario personajes.pckl, por lo que aunque cerremos el programa los datos persistirán.**\n",
    "\n",
    "* Crea dos clases, una **Personaje** y otra **Gestor**.\n",
    "* La clase **Personaje** deberá permitir crear un personaje con el nombre (que será la clase), y sus propiedades de vida, ataque, defensa y alcance (que deben ser números enteros positivos mayor que cero obligatoriamente).**\n",
    "* Por otro lado la clase **Gestor** deberá incorporar todos los métodos necesarios para **añadir personajes, mostrarlos y borrarlos (a partir de su nombre por ejemplo)** (tendrás que pensar una forma de hacerlo), además de los métodos esenciales para guardar los cambios en el fichero personajes.pckl que se deberían ejecutar automáticamente. \n",
    "* En caso de que el personaje ya exista en el Gestor entonces no se creará.\n",
    "\n",
    "** Una vez lo tengas listo realiza las siguientes prueba en tu código: **\n",
    "* Crea los tres personajes de la tabla anterior y añádelos al Gestor.\n",
    "* Muestra los personajes del Gestor.\n",
    "* Borra al Arquero.\n",
    "* Muestra de nuevo el Gestor.\n",
    "  \n",
    "*Sugerencias: El ejemplo con pickle que realizamos puede servirte como base.*"
   ]
  },
  {
   "cell_type": "markdown",
   "metadata": {
    "collapsed": true
   },
   "source": [
    "### gestor.py"
   ]
  },
  {
   "cell_type": "code",
   "execution_count": 13,
   "metadata": {
    "collapsed": false
   },
   "outputs": [
    {
     "name": "stdout",
     "output_type": "stream",
     "text": [
      "Se han cargado 2 personajes\n",
      "\n",
      "Mostrando el gestor\n",
      "Guerrero => 2 vida, 4 ataque, 2 defensa, 4 alcance\n",
      "Caballero => 4 vida, 2 ataque, 4 defensa, 2 alcance\n",
      "\n",
      "Mostrando el gestor\n",
      "Guerrero => 2 vida, 4 ataque, 2 defensa, 4 alcance\n",
      "Caballero => 4 vida, 2 ataque, 4 defensa, 2 alcance\n",
      "Arquero => 2 vida, 4 ataque, 1 defensa, 8 alcance\n",
      "\n",
      "Borrando el personaje Arquero\n",
      "\n",
      "Mostrando el gestor\n",
      "Guerrero => 2 vida, 4 ataque, 2 defensa, 4 alcance\n",
      "Caballero => 4 vida, 2 ataque, 4 defensa, 2 alcance\n"
     ]
    }
   ],
   "source": [
    "from io import open\n",
    "import pickle\n",
    "\n",
    "class Personaje:\n",
    "    \n",
    "    # Constructor de clase\n",
    "    def __init__(self, nombre, vida, ataque, defensa, alcance):\n",
    "        self.nombre = nombre\n",
    "        self.vida = vida\n",
    "        self.ataque = ataque\n",
    "        self.defensa = defensa\n",
    "        self.alcance = alcance\n",
    "        # print(\"Se ha creado el personaje: {}\".format(self.nombre) )\n",
    "        \n",
    "    def __str__(self):\n",
    "        return \"{} => {} vida, {} ataque, {} defensa, {} alcance\".format(self.nombre, self.vida, self.ataque, self.defensa, self.alcance)\n",
    "\n",
    "\n",
    "class Gestor:\n",
    "    \n",
    "    personajes = []\n",
    "    \n",
    "    # Constructor de clase\n",
    "    def __init__(self):\n",
    "        self.cargar()\n",
    "        \n",
    "    def agregar(self, p):\n",
    "        for pTemp in self.personajes:\n",
    "            if pTemp.nombre == p.nombre:\n",
    "                # print(\"El personaje ya existe en el Gestor.\")\n",
    "                return\n",
    "        self.personajes.append(p)\n",
    "        self.guardar()    \n",
    "\n",
    "    def borrar(self, nombre):\n",
    "        for i, pTemp in enumerate(self.personajes):\n",
    "            if pTemp.nombre == nombre:\n",
    "                print(\"\\nBorrando el personaje\", nombre)\n",
    "                self.personajes.pop(i)\n",
    "                self.guardar()\n",
    "                return\n",
    "        \n",
    "    def mostrar(self):\n",
    "        if len(self.personajes) == 0:\n",
    "            print(\"\\nEl gestor está vacío\")\n",
    "            return\n",
    "        print(\"\\nMostrando el gestor\")\n",
    "        for p in self.personajes:\n",
    "            print(p)\n",
    "            \n",
    "    def cargar(self):\n",
    "        fichero = open('personajes.pckl', 'ab+')\n",
    "        fichero.seek(0)\n",
    "        try:\n",
    "            self.personajes = pickle.load(fichero)\n",
    "        except:\n",
    "            print(\"El fichero está vacío\")\n",
    "        finally:\n",
    "            fichero.close()\n",
    "            print(\"Se han cargado {} personajes\".format( len(self.personajes)))\n",
    "    \n",
    "    def guardar(self):\n",
    "        fichero = open('personajes.pckl', 'wb')\n",
    "        pickle.dump(self.personajes, fichero)\n",
    "        fichero.close()\n",
    "\n",
    "\n",
    "g = Gestor()\n",
    "g.mostrar()\n",
    "g.agregar( Personaje(\"Caballero\",4,2,4,2) )\n",
    "g.agregar( Personaje(\"Guerrero\",2,4,2,4) )\n",
    "g.agregar( Personaje(\"Arquero\",2,4,1,8) )\n",
    "g.mostrar()\n",
    "g.borrar(\"Arquero\")\n",
    "g.mostrar()"
   ]
  }
 ],
 "metadata": {
  "anaconda-cloud": {},
  "kernelspec": {
   "display_name": "Python [Root]",
   "language": "python",
   "name": "Python [Root]"
  },
  "language_info": {
   "codemirror_mode": {
    "name": "ipython",
    "version": 3
   },
   "file_extension": ".py",
   "mimetype": "text/x-python",
   "name": "python",
   "nbconvert_exporter": "python",
   "pygments_lexer": "ipython3",
   "version": "3.5.2"
  }
 },
 "nbformat": 4,
 "nbformat_minor": 0
}
