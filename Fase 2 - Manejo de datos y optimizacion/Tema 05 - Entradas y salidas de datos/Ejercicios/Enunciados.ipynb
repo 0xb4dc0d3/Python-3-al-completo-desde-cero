{
 "cells": [
  {
   "cell_type": "markdown",
   "metadata": {},
   "source": [
    "# Tema 05: Entradas y salidas\n",
    "*Nota: Estos ejercicios son optativos para hacer al final de la unidad y están pensados para apoyar tu aprendizaje*."
   ]
  },
  {
   "cell_type": "markdown",
   "metadata": {},
   "source": [
    "**1) Crea un script llamado tabla.py que realice las siguientes tareas:**\n",
    "* Debe tomar 2 argumentos, ambos números enteros positivos, entre 1 y 10.\n",
    "* El primer argumento hará referencia a las filas de una tabla, el segundo a las columnas.\n",
    "* En caso de no recibir uno o ambos argumentos, debe mostrar información acerca de cómo utilizar el script.\n",
    "* Crea un bucle for que itere el número de veces del primer argumento.\n",
    "* Dentro del for, añade un segundo for que itere el número de veces del segundo argumento.\n",
    "* Dentro del segundo for ejecuta una instrucción ** print(\" * \")**.\n",
    "* Ejecuta el código y observa el resultado.\n",
    "\n",
    "** Ahora intenta deducir dónde y cómo añadir otra instruccion print para dibujar una tabla.**\n",
    "\n",
    "*Experimenta con el script hasta entender qué está sucediendo.*"
   ]
  },
  {
   "cell_type": "markdown",
   "metadata": {},
   "source": [
    "**2) Crea un script llamado descomposicion.py que realice las siguientes tareas:**\n",
    "* Debe tomar 1 argumento que será un número entero positivo.\n",
    "* En caso de no recibir un argumento, debe mostrar información acerca de cómo utilizar el script.\n",
    "\n",
    "** El objetivo del script es descomponer el número en unidades, decenas, centenas, miles... tal que por ejemplo si se introduce el número:**\n",
    "\n",
    "```\n",
    "> 3647\n",
    "```\n",
    "** El programa deberá devolver una descomposición línea a línea como la siguiente utilizando las técnicas de formateo: **\n",
    "\n",
    "```\n",
    "> 0007\n",
    "  0040\n",
    "  0600\n",
    "  3000\n",
    "```\n",
    "*Pista: Que el valor sea un número no significa necesariamente que deba serlo para formatearlo.*"
   ]
  }
 ],
 "metadata": {
  "anaconda-cloud": {},
  "kernelspec": {
   "display_name": "Python [Root]",
   "language": "python",
   "name": "Python [Root]"
  },
  "language_info": {
   "codemirror_mode": {
    "name": "ipython",
    "version": 3
   },
   "file_extension": ".py",
   "mimetype": "text/x-python",
   "name": "python",
   "nbconvert_exporter": "python",
   "pygments_lexer": "ipython3",
   "version": "3.5.2"
  }
 },
 "nbformat": 4,
 "nbformat_minor": 0
}
